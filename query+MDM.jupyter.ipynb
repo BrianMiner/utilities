{
 "cells": [
  {
   "cell_type": "code",
   "execution_count": 12,
   "metadata": {
    "collapsed": false,
    "deletable": true,
    "editable": true
   },
   "outputs": [],
   "source": [
    "##  Pull from DB2 Server \n",
    "from pyspark import SparkContext\n",
    "from pyspark.sql import SparkSession, SQLContext\n",
    "import pandas as pd\n",
    "\n",
    "spark = SparkSession.builder.getOrCreate()\n",
    "\n",
    "\n",
    "cipquery = '''\n",
    "\n",
    "select * from edw.household_composite where date_key = '2018-01-31'\n",
    "\n",
    "'''\n",
    "\n",
    "sqlquery= '(' + cipquery +  ' )  foo' # must be aliased  \n",
    "\n",
    "\n",
    "x=spark.read.format('jdbc'). \\\n",
    "options(url=\"jdbc:db2://pwg1:9030/LGRDWP1\", dbtable=sqlquery, user='e997608',password='Sas$2025').load()\n",
    "#options(url=\"jdbc:db2://pwg1:9030/LGRDWP1\", dbtable=sqlquery, user='e997608',password='Sas$2025').load().limit(10)\n",
    "#x=x.toPandas()\n",
    "#x.head()\n"
   ]
  },
  {
   "cell_type": "code",
   "execution_count": 14,
   "metadata": {
    "collapsed": false,
    "deletable": true,
    "editable": true
   },
   "outputs": [
    {
     "data": {
      "text/plain": [
       "4777656"
      ]
     },
     "execution_count": 14,
     "metadata": {},
     "output_type": "execute_result"
    }
   ],
   "source": [
    "x.count()"
   ]
  },
  {
   "cell_type": "code",
   "execution_count": null,
   "metadata": {
    "collapsed": true
   },
   "outputs": [],
   "source": []
  }
 ],
 "metadata": {
  "kernelspec": {
   "display_name": "Python 2",
   "language": "python",
   "name": "python2"
  },
  "language_info": {
   "codemirror_mode": {
    "name": "ipython",
    "version": 2
   },
   "file_extension": ".py",
   "mimetype": "text/x-python",
   "name": "python",
   "nbconvert_exporter": "python",
   "pygments_lexer": "ipython2",
   "version": "2.7.13"
  }
 },
 "nbformat": 4,
 "nbformat_minor": 2
}
