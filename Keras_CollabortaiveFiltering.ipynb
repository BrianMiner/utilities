{
 "cells": [
  {
   "cell_type": "code",
   "execution_count": 1,
   "metadata": {
    "collapsed": true
   },
   "outputs": [],
   "source": [
    "#https://github.com/fastai/courses/blob/master/deeplearning1/nbs/lesson4.ipynb\n",
    "\n"
   ]
  },
  {
   "cell_type": "code",
   "execution_count": 11,
   "metadata": {
    "collapsed": true
   },
   "outputs": [],
   "source": [
    "import os\n",
    "\n",
    "from __future__ import division, print_function\n",
    "%matplotlib inline\n",
    "from importlib import reload  # Python 3\n",
    "import utils; reload(utils)\n",
    "from utils import *\n",
    "from keras.layers.merge import dot, add, concatenate\n",
    "\n",
    "#this warning seems to not effect anything: https://github.com/tensorflow/tensorflow/issues/14182"
   ]
  },
  {
   "cell_type": "code",
   "execution_count": null,
   "metadata": {
    "collapsed": true
   },
   "outputs": [],
   "source": []
  },
  {
   "cell_type": "markdown",
   "metadata": {
    "heading_collapsed": true
   },
   "source": [
    "## Set up data"
   ]
  },
  {
   "cell_type": "markdown",
   "metadata": {
    "hidden": true
   },
   "source": [
    "We're working with the movielens data, which contains one rating per row, like this:"
   ]
  },
  {
   "cell_type": "code",
   "execution_count": 12,
   "metadata": {
    "hidden": true,
    "scrolled": true
   },
   "outputs": [
    {
     "data": {
      "text/html": [
       "<div>\n",
       "<style>\n",
       "    .dataframe thead tr:only-child th {\n",
       "        text-align: right;\n",
       "    }\n",
       "\n",
       "    .dataframe thead th {\n",
       "        text-align: left;\n",
       "    }\n",
       "\n",
       "    .dataframe tbody tr th {\n",
       "        vertical-align: top;\n",
       "    }\n",
       "</style>\n",
       "<table border=\"1\" class=\"dataframe\">\n",
       "  <thead>\n",
       "    <tr style=\"text-align: right;\">\n",
       "      <th></th>\n",
       "      <th>userId</th>\n",
       "      <th>movieId</th>\n",
       "      <th>rating</th>\n",
       "      <th>timestamp</th>\n",
       "    </tr>\n",
       "  </thead>\n",
       "  <tbody>\n",
       "    <tr>\n",
       "      <th>0</th>\n",
       "      <td>1</td>\n",
       "      <td>31</td>\n",
       "      <td>2.5</td>\n",
       "      <td>1260759144</td>\n",
       "    </tr>\n",
       "    <tr>\n",
       "      <th>1</th>\n",
       "      <td>1</td>\n",
       "      <td>1029</td>\n",
       "      <td>3.0</td>\n",
       "      <td>1260759179</td>\n",
       "    </tr>\n",
       "    <tr>\n",
       "      <th>2</th>\n",
       "      <td>1</td>\n",
       "      <td>1061</td>\n",
       "      <td>3.0</td>\n",
       "      <td>1260759182</td>\n",
       "    </tr>\n",
       "    <tr>\n",
       "      <th>3</th>\n",
       "      <td>1</td>\n",
       "      <td>1129</td>\n",
       "      <td>2.0</td>\n",
       "      <td>1260759185</td>\n",
       "    </tr>\n",
       "    <tr>\n",
       "      <th>4</th>\n",
       "      <td>1</td>\n",
       "      <td>1172</td>\n",
       "      <td>4.0</td>\n",
       "      <td>1260759205</td>\n",
       "    </tr>\n",
       "  </tbody>\n",
       "</table>\n",
       "</div>"
      ],
      "text/plain": [
       "   userId  movieId  rating   timestamp\n",
       "0       1       31     2.5  1260759144\n",
       "1       1     1029     3.0  1260759179\n",
       "2       1     1061     3.0  1260759182\n",
       "3       1     1129     2.0  1260759185\n",
       "4       1     1172     4.0  1260759205"
      ]
     },
     "execution_count": 12,
     "metadata": {},
     "output_type": "execute_result"
    }
   ],
   "source": [
    "ratings = pd.read_csv('/media/jma/DATA/ml-latest-small/ratings.csv')\n",
    "ratings.head()"
   ]
  },
  {
   "cell_type": "code",
   "execution_count": 13,
   "metadata": {
    "hidden": true
   },
   "outputs": [
    {
     "data": {
      "text/plain": [
       "100004"
      ]
     },
     "execution_count": 13,
     "metadata": {},
     "output_type": "execute_result"
    }
   ],
   "source": [
    "len(ratings)"
   ]
  },
  {
   "cell_type": "code",
   "execution_count": 14,
   "metadata": {
    "hidden": true
   },
   "outputs": [
    {
     "data": {
      "text/plain": [
       "(671, 9066)"
      ]
     },
     "execution_count": 14,
     "metadata": {},
     "output_type": "execute_result"
    }
   ],
   "source": [
    "n_users = ratings.userId.nunique()\n",
    "n_movies = ratings.movieId.nunique()\n",
    "n_users, n_movies"
   ]
  },
  {
   "cell_type": "code",
   "execution_count": 15,
   "metadata": {
    "collapsed": true
   },
   "outputs": [],
   "source": [
    "users = ratings.userId.unique()\n",
    "movies = ratings.movieId.unique()\n",
    "\n",
    "# userId and movieId become ditionary elements with values ranging from 0 to max len \n",
    "userid2idx = {o:i for i,o in enumerate(users)}\n",
    "movieid2idx = {o:i for i,o in enumerate(movies)}\n",
    "\n",
    "#update to be contiguous integers\n",
    "ratings.movieId = ratings.movieId.apply(lambda x: movieid2idx[x])\n",
    "ratings.userId = ratings.userId.apply(lambda x: userid2idx[x])"
   ]
  },
  {
   "cell_type": "markdown",
   "metadata": {
    "hidden": true
   },
   "source": [
    "This is the number of latent factors in each embedding."
   ]
  },
  {
   "cell_type": "code",
   "execution_count": 16,
   "metadata": {
    "collapsed": true,
    "hidden": true
   },
   "outputs": [],
   "source": [
    "n_factors = 50"
   ]
  },
  {
   "cell_type": "code",
   "execution_count": 17,
   "metadata": {
    "collapsed": true
   },
   "outputs": [],
   "source": [
    "batch_size =64"
   ]
  },
  {
   "cell_type": "code",
   "execution_count": null,
   "metadata": {
    "collapsed": true
   },
   "outputs": [],
   "source": []
  },
  {
   "cell_type": "code",
   "execution_count": 18,
   "metadata": {
    "collapsed": true,
    "hidden": true
   },
   "outputs": [],
   "source": [
    "np.random.seed = 42"
   ]
  },
  {
   "cell_type": "markdown",
   "metadata": {
    "hidden": true
   },
   "source": [
    "Randomly split into training and validation."
   ]
  },
  {
   "cell_type": "code",
   "execution_count": 19,
   "metadata": {
    "hidden": true
   },
   "outputs": [
    {
     "name": "stdout",
     "output_type": "stream",
     "text": [
      "(100004,)\n"
     ]
    }
   ],
   "source": [
    "msk = np.random.rand(len(ratings)) < 0.8\n",
    "print(msk.shape)\n",
    "trn = ratings[msk]\n",
    "val = ratings[~msk]"
   ]
  },
  {
   "cell_type": "code",
   "execution_count": 20,
   "metadata": {},
   "outputs": [
    {
     "name": "stdout",
     "output_type": "stream",
     "text": [
      "Train on 80116 samples, validate on 19888 samples\n",
      "Epoch 1/1\n",
      "80116/80116 [==============================] - 7s 89us/step - loss: 10.1079 - val_loss: 4.4197\n"
     ]
    },
    {
     "data": {
      "text/plain": [
       "<keras.callbacks.History at 0x7f417814a898>"
      ]
     },
     "execution_count": 20,
     "metadata": {},
     "output_type": "execute_result"
    }
   ],
   "source": [
    "user_in = Input(shape=(1,), dtype='int64', name='user_in')\n",
    "u = Embedding(input_dim=n_users, output_dim=n_factors, input_length=1, embeddings_regularizer=l2(1e-4))(user_in)\n",
    "movie_in = Input(shape=(1,), dtype='int64', name='movie_in')\n",
    "m = Embedding(input_dim=n_movies, output_dim=n_factors, input_length=1, embeddings_regularizer=l2(1e-4))(movie_in)\n",
    "x = dot([u, m], axes=2)\n",
    "x = Flatten()(x)\n",
    "model = Model([user_in, movie_in], x)\n",
    "model.compile(Adam(0.001), loss='mse')\n",
    "model.fit([trn.userId, trn.movieId], trn.rating, batch_size=batch_size, epochs=1, \n",
    "          validation_data=([val.userId, val.movieId], val.rating))"
   ]
  },
  {
   "cell_type": "markdown",
   "metadata": {
    "heading_collapsed": true
   },
   "source": [
    "##  Bias"
   ]
  },
  {
   "cell_type": "raw",
   "metadata": {
    "hidden": true
   },
   "source": [
    "The problem is likely to be that we don't have bias terms - that is, a single bias for each user and each movie representing how positive or negative each user is, and how good each movie is. We can add that easily by simply creating an embedding with one output for each movie and each user, and adding it to our output."
   ]
  },
  {
   "cell_type": "code",
   "execution_count": 21,
   "metadata": {
    "collapsed": true
   },
   "outputs": [],
   "source": [
    "#two seperate input layers, each have only 1 feature, the integer index of the user or movie\n",
    "user_in = Input(shape=(1,), dtype='int64', name='user_in')\n",
    "movie_in = Input(shape=(1,), dtype='int64', name='movie_in')\n"
   ]
  },
  {
   "cell_type": "code",
   "execution_count": 22,
   "metadata": {
    "hidden": true
   },
   "outputs": [
    {
     "name": "stdout",
     "output_type": "stream",
     "text": [
      "__________________________________________________________________________________________________\n",
      "Layer (type)                    Output Shape         Param #     Connected to                     \n",
      "==================================================================================================\n",
      "user_in (InputLayer)            (None, 1)            0                                            \n",
      "__________________________________________________________________________________________________\n",
      "movie_in (InputLayer)           (None, 1)            0                                            \n",
      "__________________________________________________________________________________________________\n",
      "user_embedding (Embedding)      (None, 1, 50)        33550       user_in[0][0]                    \n",
      "__________________________________________________________________________________________________\n",
      "embedding_5 (Embedding)         (None, 1, 50)        453300      movie_in[0][0]                   \n",
      "__________________________________________________________________________________________________\n",
      "dot_3 (Dot)                     (None, 1, 1)         0           user_embedding[0][0]             \n",
      "                                                                 embedding_5[0][0]                \n",
      "__________________________________________________________________________________________________\n",
      "embedding_6 (Embedding)         (None, 1, 1)         671         user_in[0][0]                    \n",
      "__________________________________________________________________________________________________\n",
      "flatten_5 (Flatten)             (None, 1)            0           dot_3[0][0]                      \n",
      "__________________________________________________________________________________________________\n",
      "flatten_3 (Flatten)             (None, 1)            0           embedding_6[0][0]                \n",
      "__________________________________________________________________________________________________\n",
      "embedding_7 (Embedding)         (None, 1, 1)         9066        movie_in[0][0]                   \n",
      "__________________________________________________________________________________________________\n",
      "add_1 (Add)                     (None, 1)            0           flatten_5[0][0]                  \n",
      "                                                                 flatten_3[0][0]                  \n",
      "__________________________________________________________________________________________________\n",
      "flatten_4 (Flatten)             (None, 1)            0           embedding_7[0][0]                \n",
      "__________________________________________________________________________________________________\n",
      "add_2 (Add)                     (None, 1)            0           add_1[0][0]                      \n",
      "                                                                 flatten_4[0][0]                  \n",
      "==================================================================================================\n",
      "Total params: 496,587\n",
      "Trainable params: 496,587\n",
      "Non-trainable params: 0\n",
      "__________________________________________________________________________________________________\n"
     ]
    }
   ],
   "source": [
    "#input_dim: int > 0. Size of the vocabulary, i.e. maximum integer index + 1.\n",
    "#output_dim: int >= 0. Dimension of the dense embedding.\n",
    "#input_length: Length of input sequences, when it is constant\n",
    "\n",
    "u=Embedding(input_dim =n_users, output_dim =n_factors, input_length=1, embeddings_regularizer=l2(1e-4),name='user_embedding')(user_in)\n",
    "m=Embedding(input_dim =n_movies, output_dim =n_factors, input_length=1, embeddings_regularizer=l2(1e-4))(movie_in)\n",
    "\n",
    "\n",
    "\n",
    "#create biases\n",
    "ub1=Embedding(input_dim =n_users, output_dim =1, input_length=1)(user_in)\n",
    "mb1=Embedding(input_dim =n_movies, output_dim =1, input_length=1)(movie_in)\n",
    "\n",
    "ub = Flatten()(ub1)\n",
    "mb = Flatten()(mb1)\n",
    "\n",
    "#build NN\n",
    "x=dot([u, m], axes=-1)\n",
    "#output shape is (None, 1, 1) so need to flatten to (None, 1) \n",
    "x = Flatten()(x)\n",
    "\n",
    "#add the bias for users and movies \n",
    "x = add([x, ub])\n",
    "x = add([x, mb])\n",
    "\n",
    "\n",
    "\n",
    "#inputs and outputs (i.e. x)\n",
    "model = Model(inputs=[user_in, movie_in], outputs= x)\n",
    "\n",
    "model.compile(Adam(0.001), loss='mse')\n",
    "\n",
    "model.summary()"
   ]
  },
  {
   "cell_type": "code",
   "execution_count": 23,
   "metadata": {},
   "outputs": [
    {
     "data": {
      "image/svg+xml": [
       "<svg height=\"410pt\" viewBox=\"0.00 0.00 493.00 410.00\" width=\"493pt\" xmlns=\"http://www.w3.org/2000/svg\" xmlns:xlink=\"http://www.w3.org/1999/xlink\">\n",
       "<g class=\"graph\" id=\"graph0\" transform=\"scale(1 1) rotate(0) translate(4 406)\">\n",
       "<title>G</title>\n",
       "<polygon fill=\"white\" points=\"-4,4 -4,-406 489,-406 489,4 -4,4\" stroke=\"none\"/>\n",
       "<!-- 139919166365592 -->\n",
       "<g class=\"node\" id=\"node1\"><title>139919166365592</title>\n",
       "<polygon fill=\"none\" points=\"6.5,-365.5 6.5,-401.5 130.5,-401.5 130.5,-365.5 6.5,-365.5\" stroke=\"black\"/>\n",
       "<text font-family=\"Times,serif\" font-size=\"14.00\" text-anchor=\"middle\" x=\"68.5\" y=\"-379.8\">user_in: InputLayer</text>\n",
       "</g>\n",
       "<!-- 139919035190072 -->\n",
       "<g class=\"node\" id=\"node3\"><title>139919035190072</title>\n",
       "<polygon fill=\"none\" points=\"38,-292.5 38,-328.5 215,-328.5 215,-292.5 38,-292.5\" stroke=\"black\"/>\n",
       "<text font-family=\"Times,serif\" font-size=\"14.00\" text-anchor=\"middle\" x=\"126.5\" y=\"-306.8\">user_embedding: Embedding</text>\n",
       "</g>\n",
       "<!-- 139919166365592&#45;&gt;139919035190072 -->\n",
       "<g class=\"edge\" id=\"edge1\"><title>139919166365592-&gt;139919035190072</title>\n",
       "<path d=\"M82.5402,-365.313C89.5932,-356.679 98.2719,-346.055 106.05,-336.534\" fill=\"none\" stroke=\"black\"/>\n",
       "<polygon fill=\"black\" points=\"108.973,-338.488 112.589,-328.529 103.552,-334.059 108.973,-338.488\" stroke=\"black\"/>\n",
       "</g>\n",
       "<!-- 139919044771568 -->\n",
       "<g class=\"node\" id=\"node6\"><title>139919044771568</title>\n",
       "<polygon fill=\"none\" points=\"0,-219.5 0,-255.5 161,-255.5 161,-219.5 0,-219.5\" stroke=\"black\"/>\n",
       "<text font-family=\"Times,serif\" font-size=\"14.00\" text-anchor=\"middle\" x=\"80.5\" y=\"-233.8\">embedding_6: Embedding</text>\n",
       "</g>\n",
       "<!-- 139919166365592&#45;&gt;139919044771568 -->\n",
       "<g class=\"edge\" id=\"edge5\"><title>139919166365592-&gt;139919044771568</title>\n",
       "<path d=\"M51.1818,-365.381C42.5639,-355.625 33.0373,-342.646 28.5,-329 23.3115,-313.396 22.3151,-307.237 28.5,-292 33.0214,-280.861 41.0994,-270.767 49.5607,-262.424\" fill=\"none\" stroke=\"black\"/>\n",
       "<polygon fill=\"black\" points=\"52.0289,-264.909 57.0153,-255.561 47.2877,-259.759 52.0289,-264.909\" stroke=\"black\"/>\n",
       "</g>\n",
       "<!-- 139919166363128 -->\n",
       "<g class=\"node\" id=\"node2\"><title>139919166363128</title>\n",
       "<polygon fill=\"none\" points=\"299.5,-365.5 299.5,-401.5 435.5,-401.5 435.5,-365.5 299.5,-365.5\" stroke=\"black\"/>\n",
       "<text font-family=\"Times,serif\" font-size=\"14.00\" text-anchor=\"middle\" x=\"367.5\" y=\"-379.8\">movie_in: InputLayer</text>\n",
       "</g>\n",
       "<!-- 139919035190296 -->\n",
       "<g class=\"node\" id=\"node4\"><title>139919035190296</title>\n",
       "<polygon fill=\"none\" points=\"233,-292.5 233,-328.5 394,-328.5 394,-292.5 233,-292.5\" stroke=\"black\"/>\n",
       "<text font-family=\"Times,serif\" font-size=\"14.00\" text-anchor=\"middle\" x=\"313.5\" y=\"-306.8\">embedding_5: Embedding</text>\n",
       "</g>\n",
       "<!-- 139919166363128&#45;&gt;139919035190296 -->\n",
       "<g class=\"edge\" id=\"edge2\"><title>139919166363128-&gt;139919035190296</title>\n",
       "<path d=\"M354.428,-365.313C347.862,-356.679 339.781,-346.055 332.54,-336.534\" fill=\"none\" stroke=\"black\"/>\n",
       "<polygon fill=\"black\" points=\"335.291,-334.37 326.452,-328.529 329.719,-338.607 335.291,-334.37\" stroke=\"black\"/>\n",
       "</g>\n",
       "<!-- 139919035246968 -->\n",
       "<g class=\"node\" id=\"node9\"><title>139919035246968</title>\n",
       "<polygon fill=\"none\" points=\"324,-219.5 324,-255.5 485,-255.5 485,-219.5 324,-219.5\" stroke=\"black\"/>\n",
       "<text font-family=\"Times,serif\" font-size=\"14.00\" text-anchor=\"middle\" x=\"404.5\" y=\"-233.8\">embedding_7: Embedding</text>\n",
       "</g>\n",
       "<!-- 139919166363128&#45;&gt;139919035246968 -->\n",
       "<g class=\"edge\" id=\"edge8\"><title>139919166363128-&gt;139919035246968</title>\n",
       "<path d=\"M383.054,-365.069C390.8,-355.222 399.375,-342.255 403.5,-329 409.9,-308.432 409.732,-283.939 408.196,-265.624\" fill=\"none\" stroke=\"black\"/>\n",
       "<polygon fill=\"black\" points=\"411.673,-265.221 407.172,-255.63 404.709,-265.935 411.673,-265.221\" stroke=\"black\"/>\n",
       "</g>\n",
       "<!-- 139919035527408 -->\n",
       "<g class=\"node\" id=\"node5\"><title>139919035527408</title>\n",
       "<polygon fill=\"none\" points=\"214,-219.5 214,-255.5 289,-255.5 289,-219.5 214,-219.5\" stroke=\"black\"/>\n",
       "<text font-family=\"Times,serif\" font-size=\"14.00\" text-anchor=\"middle\" x=\"251.5\" y=\"-233.8\">dot_3: Dot</text>\n",
       "</g>\n",
       "<!-- 139919035190072&#45;&gt;139919035527408 -->\n",
       "<g class=\"edge\" id=\"edge3\"><title>139919035190072-&gt;139919035527408</title>\n",
       "<path d=\"M156.441,-292.494C173.17,-282.991 194.218,-271.036 212.253,-260.792\" fill=\"none\" stroke=\"black\"/>\n",
       "<polygon fill=\"black\" points=\"214.404,-263.596 221.37,-255.614 210.947,-257.509 214.404,-263.596\" stroke=\"black\"/>\n",
       "</g>\n",
       "<!-- 139919035190296&#45;&gt;139919035527408 -->\n",
       "<g class=\"edge\" id=\"edge4\"><title>139919035190296-&gt;139919035527408</title>\n",
       "<path d=\"M298.492,-292.313C290.876,-283.592 281.487,-272.84 273.109,-263.246\" fill=\"none\" stroke=\"black\"/>\n",
       "<polygon fill=\"black\" points=\"275.584,-260.759 266.37,-255.529 270.311,-265.363 275.584,-260.759\" stroke=\"black\"/>\n",
       "</g>\n",
       "<!-- 139919035530712 -->\n",
       "<g class=\"node\" id=\"node7\"><title>139919035530712</title>\n",
       "<polygon fill=\"none\" points=\"196.5,-146.5 196.5,-182.5 306.5,-182.5 306.5,-146.5 196.5,-146.5\" stroke=\"black\"/>\n",
       "<text font-family=\"Times,serif\" font-size=\"14.00\" text-anchor=\"middle\" x=\"251.5\" y=\"-160.8\">flatten_5: Flatten</text>\n",
       "</g>\n",
       "<!-- 139919035527408&#45;&gt;139919035530712 -->\n",
       "<g class=\"edge\" id=\"edge6\"><title>139919035527408-&gt;139919035530712</title>\n",
       "<path d=\"M251.5,-219.313C251.5,-211.289 251.5,-201.547 251.5,-192.569\" fill=\"none\" stroke=\"black\"/>\n",
       "<polygon fill=\"black\" points=\"255,-192.529 251.5,-182.529 248,-192.529 255,-192.529\" stroke=\"black\"/>\n",
       "</g>\n",
       "<!-- 139919035188616 -->\n",
       "<g class=\"node\" id=\"node8\"><title>139919035188616</title>\n",
       "<polygon fill=\"none\" points=\"47.5,-146.5 47.5,-182.5 157.5,-182.5 157.5,-146.5 47.5,-146.5\" stroke=\"black\"/>\n",
       "<text font-family=\"Times,serif\" font-size=\"14.00\" text-anchor=\"middle\" x=\"102.5\" y=\"-160.8\">flatten_3: Flatten</text>\n",
       "</g>\n",
       "<!-- 139919044771568&#45;&gt;139919035188616 -->\n",
       "<g class=\"edge\" id=\"edge7\"><title>139919044771568-&gt;139919035188616</title>\n",
       "<path d=\"M85.8256,-219.313C88.3387,-211.202 91.396,-201.336 94.203,-192.277\" fill=\"none\" stroke=\"black\"/>\n",
       "<polygon fill=\"black\" points=\"97.6068,-193.117 97.2235,-182.529 90.9204,-191.045 97.6068,-193.117\" stroke=\"black\"/>\n",
       "</g>\n",
       "<!-- 139919035456256 -->\n",
       "<g class=\"node\" id=\"node10\"><title>139919035456256</title>\n",
       "<polygon fill=\"none\" points=\"211.5,-73.5 211.5,-109.5 291.5,-109.5 291.5,-73.5 211.5,-73.5\" stroke=\"black\"/>\n",
       "<text font-family=\"Times,serif\" font-size=\"14.00\" text-anchor=\"middle\" x=\"251.5\" y=\"-87.8\">add_1: Add</text>\n",
       "</g>\n",
       "<!-- 139919035530712&#45;&gt;139919035456256 -->\n",
       "<g class=\"edge\" id=\"edge9\"><title>139919035530712-&gt;139919035456256</title>\n",
       "<path d=\"M251.5,-146.313C251.5,-138.289 251.5,-128.547 251.5,-119.569\" fill=\"none\" stroke=\"black\"/>\n",
       "<polygon fill=\"black\" points=\"255,-119.529 251.5,-109.529 248,-119.529 255,-119.529\" stroke=\"black\"/>\n",
       "</g>\n",
       "<!-- 139919035188616&#45;&gt;139919035456256 -->\n",
       "<g class=\"edge\" id=\"edge10\"><title>139919035188616-&gt;139919035456256</title>\n",
       "<path d=\"M138.189,-146.494C158.68,-136.73 184.605,-124.376 206.484,-113.951\" fill=\"none\" stroke=\"black\"/>\n",
       "<polygon fill=\"black\" points=\"208.064,-117.075 215.586,-109.614 205.052,-110.756 208.064,-117.075\" stroke=\"black\"/>\n",
       "</g>\n",
       "<!-- 139919035190240 -->\n",
       "<g class=\"node\" id=\"node11\"><title>139919035190240</title>\n",
       "<polygon fill=\"none\" points=\"336.5,-146.5 336.5,-182.5 446.5,-182.5 446.5,-146.5 336.5,-146.5\" stroke=\"black\"/>\n",
       "<text font-family=\"Times,serif\" font-size=\"14.00\" text-anchor=\"middle\" x=\"391.5\" y=\"-160.8\">flatten_4: Flatten</text>\n",
       "</g>\n",
       "<!-- 139919035246968&#45;&gt;139919035190240 -->\n",
       "<g class=\"edge\" id=\"edge11\"><title>139919035246968-&gt;139919035190240</title>\n",
       "<path d=\"M401.353,-219.313C399.884,-211.289 398.1,-201.547 396.456,-192.569\" fill=\"none\" stroke=\"black\"/>\n",
       "<polygon fill=\"black\" points=\"399.862,-191.735 394.618,-182.529 392.976,-192.996 399.862,-191.735\" stroke=\"black\"/>\n",
       "</g>\n",
       "<!-- 139919035455696 -->\n",
       "<g class=\"node\" id=\"node12\"><title>139919035455696</title>\n",
       "<polygon fill=\"none\" points=\"263.5,-0.5 263.5,-36.5 343.5,-36.5 343.5,-0.5 263.5,-0.5\" stroke=\"black\"/>\n",
       "<text font-family=\"Times,serif\" font-size=\"14.00\" text-anchor=\"middle\" x=\"303.5\" y=\"-14.8\">add_2: Add</text>\n",
       "</g>\n",
       "<!-- 139919035456256&#45;&gt;139919035455696 -->\n",
       "<g class=\"edge\" id=\"edge12\"><title>139919035456256-&gt;139919035455696</title>\n",
       "<path d=\"M264.088,-73.3129C270.347,-64.7662 278.035,-54.2695 284.954,-44.8229\" fill=\"none\" stroke=\"black\"/>\n",
       "<polygon fill=\"black\" points=\"287.943,-46.6646 291.028,-36.5288 282.296,-42.5285 287.943,-46.6646\" stroke=\"black\"/>\n",
       "</g>\n",
       "<!-- 139919035190240&#45;&gt;139919035455696 -->\n",
       "<g class=\"edge\" id=\"edge13\"><title>139919035190240-&gt;139919035455696</title>\n",
       "<path d=\"M381.06,-146.416C365.777,-121.408 337.196,-74.6397 319.323,-45.3924\" fill=\"none\" stroke=\"black\"/>\n",
       "<polygon fill=\"black\" points=\"322.128,-43.2697 313.927,-36.5619 316.155,-46.9199 322.128,-43.2697\" stroke=\"black\"/>\n",
       "</g>\n",
       "</g>\n",
       "</svg>"
      ],
      "text/plain": [
       "<IPython.core.display.SVG object>"
      ]
     },
     "execution_count": 23,
     "metadata": {},
     "output_type": "execute_result"
    }
   ],
   "source": [
    "#had to run \n",
    "#conda install graphviz\n",
    "#conda install pydotplus\n",
    "\n",
    "#https://stackoverflow.com/questions/36886711/keras-runtimeerror-failed-to-import-pydot-after-installing-graphviz-and-pyd\n",
    "\n",
    "from IPython.display import SVG\n",
    "from keras.utils.vis_utils import model_to_dot\n",
    "\n",
    "\n",
    "SVG(model_to_dot(model).create(prog='dot', format='svg'))"
   ]
  },
  {
   "cell_type": "code",
   "execution_count": 24,
   "metadata": {
    "hidden": true
   },
   "outputs": [
    {
     "name": "stdout",
     "output_type": "stream",
     "text": [
      "Train on 80116 samples, validate on 19888 samples\n",
      "Epoch 1/5\n",
      "80116/80116 [==============================] - 7s 85us/step - loss: 8.9720 - val_loss: 3.6132\n",
      "Epoch 2/5\n",
      "80116/80116 [==============================] - 7s 83us/step - loss: 2.5941 - val_loss: 2.3329\n",
      "Epoch 3/5\n",
      "80116/80116 [==============================] - 7s 85us/step - loss: 1.9907 - val_loss: 2.1221\n",
      "Epoch 4/5\n",
      "80116/80116 [==============================] - 7s 87us/step - loss: 1.8279 - val_loss: 2.0160\n",
      "Epoch 5/5\n",
      "80116/80116 [==============================] - 7s 86us/step - loss: 1.7302 - val_loss: 1.9435\n"
     ]
    },
    {
     "data": {
      "text/plain": [
       "<keras.callbacks.History at 0x7f4170362550>"
      ]
     },
     "execution_count": 24,
     "metadata": {},
     "output_type": "execute_result"
    }
   ],
   "source": [
    "#x inputs are users and movie ids\n",
    "#y= ratings\n",
    "\n",
    "\n",
    "model.fit(x=[trn.userId.values, trn.movieId.values], y=trn.rating.values, batch_size=64, epochs=5, \n",
    "          validation_data=([val.userId, val.movieId], val.rating))"
   ]
  },
  {
   "cell_type": "markdown",
   "metadata": {
    "hidden": true
   },
   "source": [
    "This result is quite a bit better than the best benchmarks that we could find with a quick google search - so looks like a great approach!"
   ]
  },
  {
   "cell_type": "markdown",
   "metadata": {
    "hidden": true
   },
   "source": [
    "We can use the model to generate predictions by passing a pair of ints - a user id and a movie id. For instance, this predicts that user #3 would really enjoy movie #6."
   ]
  },
  {
   "cell_type": "code",
   "execution_count": 25,
   "metadata": {
    "hidden": true
   },
   "outputs": [
    {
     "data": {
      "text/plain": [
       "array([[4.3885]], dtype=float32)"
      ]
     },
     "execution_count": 25,
     "metadata": {},
     "output_type": "execute_result"
    }
   ],
   "source": [
    "model.predict([np.array([3]), np.array([6])])"
   ]
  },
  {
   "cell_type": "markdown",
   "metadata": {},
   "source": [
    "##  Neural net"
   ]
  },
  {
   "cell_type": "markdown",
   "metadata": {},
   "source": [
    "Rather than creating a special purpose architecture (like our dot-product with bias earlier), it's often both easier and more accurate to use a standard neural network. Let's try it! Here, we simply concatenate the user and movie embeddings into a single vector, which we feed into the neural net."
   ]
  },
  {
   "cell_type": "code",
   "execution_count": 26,
   "metadata": {
    "collapsed": true
   },
   "outputs": [],
   "source": [
    "x=concatenate([u, m])\n",
    "x = Flatten()(x)\n",
    "x = Dropout(0.3)(x)\n",
    "x = Dense(70, activation='relu')(x)\n",
    "x = Dropout(0.75)(x)\n",
    "x = Dense(1)(x)\n",
    "nn = Model([user_in, movie_in], x)\n",
    "nn.compile(Adam(0.001), loss='mse')"
   ]
  },
  {
   "cell_type": "code",
   "execution_count": 27,
   "metadata": {},
   "outputs": [
    {
     "name": "stdout",
     "output_type": "stream",
     "text": [
      "Train on 80116 samples, validate on 19888 samples\n",
      "Epoch 1/8\n",
      "80116/80116 [==============================] - 7s 89us/step - loss: 2.3503 - val_loss: 1.2735\n",
      "Epoch 2/8\n",
      "80116/80116 [==============================] - 7s 87us/step - loss: 1.6729 - val_loss: 1.1669\n",
      "Epoch 3/8\n",
      "80116/80116 [==============================] - 7s 86us/step - loss: 1.3437 - val_loss: 1.0445\n",
      "Epoch 4/8\n",
      "80116/80116 [==============================] - 7s 86us/step - loss: 1.1313 - val_loss: 0.9705\n",
      "Epoch 5/8\n",
      "80116/80116 [==============================] - 7s 88us/step - loss: 0.9853 - val_loss: 0.9071\n",
      "Epoch 6/8\n",
      "80116/80116 [==============================] - 7s 87us/step - loss: 0.9075 - val_loss: 0.8706\n",
      "Epoch 7/8\n",
      "80116/80116 [==============================] - 7s 82us/step - loss: 0.8685 - val_loss: 0.8527\n",
      "Epoch 8/8\n",
      "80116/80116 [==============================] - 7s 82us/step - loss: 0.8431 - val_loss: 0.8442\n"
     ]
    },
    {
     "data": {
      "text/plain": [
       "<keras.callbacks.History at 0x7f4169dd1a90>"
      ]
     },
     "execution_count": 27,
     "metadata": {},
     "output_type": "execute_result"
    }
   ],
   "source": [
    "nn.fit([trn.userId, trn.movieId], trn.rating, batch_size=64, epochs=8, \n",
    "          validation_data=([val.userId, val.movieId], val.rating))"
   ]
  },
  {
   "cell_type": "markdown",
   "metadata": {},
   "source": [
    "This improves on our already impressive accuracy even further!"
   ]
  }
 ],
 "metadata": {
  "kernelspec": {
   "display_name": "Python 3",
   "language": "python",
   "name": "python3"
  },
  "language_info": {
   "codemirror_mode": {
    "name": "ipython",
    "version": 3
   },
   "file_extension": ".py",
   "mimetype": "text/x-python",
   "name": "python",
   "nbconvert_exporter": "python",
   "pygments_lexer": "ipython3",
   "version": "3.6.2"
  }
 },
 "nbformat": 4,
 "nbformat_minor": 1
}
