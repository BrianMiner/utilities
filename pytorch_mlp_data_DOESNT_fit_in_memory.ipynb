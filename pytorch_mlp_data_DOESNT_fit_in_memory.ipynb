{
 "cells": [
  {
   "cell_type": "code",
   "execution_count": 1,
   "metadata": {},
   "outputs": [],
   "source": [
    "#UPDATED FOR PYTORCH 0.4\n",
    "#https://pytorch.org/2018/04/22/0_4_0-migration-guide.html\n",
    "\n",
    "\n",
    "#https://www.sanyamkapoor.com/machine-learning/pytorch-data-loaders/\n",
    "from __future__ import division\n",
    "import numpy as np\n",
    "import pandas as pd\n",
    "import matplotlib.pyplot as plt\n",
    "\n",
    "import torch\n",
    "import torch.utils.data as utils_data\n",
    "from torch import optim, nn\n",
    "from torch.utils.data import Dataset, DataLoader \n",
    "import torch.nn.functional as F\n",
    "from torch.nn.init import xavier_normal_, xavier_uniform_\n",
    "from sklearn.datasets import load_boston\n",
    "from sklearn.metrics import mean_squared_error\n",
    "\n",
    "cuda=True #set to true uses GPU\n",
    "\n",
    "\n"
   ]
  },
  {
   "cell_type": "markdown",
   "metadata": {},
   "source": [
    "<h2>First Start with just looking at custom data loader</h2>"
   ]
  },
  {
   "cell_type": "code",
   "execution_count": 2,
   "metadata": {},
   "outputs": [],
   "source": [
    "\n",
    "#here is just basic example of custom dataloader https://www.youtube.com/watch?v=zN49HdDxHi8&index=8&list=PLlMkM4tgfjnJ3I-dbhO9JTw7gNty6o_2m\n",
    "class testLoader(Dataset):\n",
    "      def __init__(self):\n",
    "            \n",
    "            #regular old numpy\n",
    "            boston = load_boston()\n",
    "            x=boston.data\n",
    "            y=boston.target\n",
    "            y=y.reshape(y.shape[0],1)\n",
    "            \n",
    "            self.x = torch.from_numpy(x)\n",
    "            self.y = torch.from_numpy(y)\n",
    "            \n",
    "            \n",
    "            self.length = x.shape[0]\n",
    "            self.vars =x.shape[1]\n",
    "          \n",
    "      def __getitem__(self, index):\n",
    "\n",
    "          return self.x[index], self.y[index]\n",
    "\n",
    "      def __len__(self):\n",
    "          return self.length\n",
    "\n"
   ]
  },
  {
   "cell_type": "code",
   "execution_count": 3,
   "metadata": {},
   "outputs": [
    {
     "name": "stdout",
     "output_type": "stream",
     "text": [
      "Net(\n",
      "  (fc1): Linear(in_features=13, out_features=20, bias=True)\n",
      "  (drop): Dropout(p=0.5)\n",
      "  (fc2): Linear(in_features=20, out_features=1, bias=True)\n",
      ")\n"
     ]
    },
    {
     "data": {
      "text/plain": [
       "[<matplotlib.lines.Line2D at 0x7fbcb915b780>]"
      ]
     },
     "execution_count": 3,
     "metadata": {},
     "output_type": "execute_result"
    },
    {
     "data": {
      "image/png": "[encoded data removed]",
      "text/plain": [
       "<Figure size 432x288 with 1 Axes>"
      ]
     },
     "metadata": {},
     "output_type": "display_data"
    }
   ],
   "source": [
    "#everything the same as other notebook\n",
    "training_samples=testLoader()\n",
    "train_loader = DataLoader(training_samples, batch_size=64, shuffle=True)\n",
    "\n",
    "#define the MLP\n",
    "\n",
    "\n",
    "#override this\n",
    "class Net(nn.Module):\n",
    "    def __init__(self):\n",
    "         super(Net, self).__init__()\n",
    "         \n",
    "         #all the layers\n",
    "         self.fc1   = nn.Linear(training_samples.vars, 20)\n",
    "         xavier_uniform_(self.fc1.weight.data) #this is how you can change the weight init\n",
    "         self.drop = nn.Dropout(p=0.5)\n",
    "         self.fc2   = nn.Linear(20, 1)\n",
    "         \n",
    "    #    \n",
    "    def forward(self, x):\n",
    "            x = F.relu(self.fc1(x))\n",
    "            x=  self.drop(x)\n",
    "            x = self.fc2(x)\n",
    "            \n",
    "            return x\n",
    "        \n",
    "        \n",
    "net=Net()\n",
    "if cuda:\n",
    "    net.cuda()\n",
    "print(net)\n",
    "\n",
    "# create a stochastic gradient descent optimizer\n",
    "optimizer = optim.Adam(net.parameters())\n",
    "# create a loss function (mse)\n",
    "loss = nn.MSELoss(size_average=True)\n",
    "\n",
    "# run the main training loop\n",
    "epochs =50\n",
    "hold_loss=[]\n",
    "\n",
    "for epoch in range(epochs):\n",
    "    cum_loss=0.\n",
    "    for batch_idx, (data, target) in enumerate(train_loader):\n",
    "        tr_x, tr_y = data.float(), target.float()\n",
    "        \n",
    "        if cuda:\n",
    "            tr_x, tr_y = tr_x.cuda(), tr_y.cuda() \n",
    "            \n",
    "        # Reset gradient\n",
    "        optimizer.zero_grad()\n",
    "\n",
    "        # Forward pass\n",
    "        fx = net(tr_x)\n",
    "        output = loss(fx, tr_y) #loss for this batch\n",
    "        cum_loss += output.item() #accumulate the loss\n",
    "        \n",
    "        # Backward \n",
    "        output.backward()\n",
    "        \n",
    "        # Update parameters based on backprop\n",
    "        optimizer.step()\n",
    "    hold_loss.append(cum_loss/len(training_samples))    \n",
    "    #print(epoch+1, cum_loss) #\n",
    "plt.plot(np.array(hold_loss))"
   ]
  },
  {
   "cell_type": "markdown",
   "metadata": {},
   "source": [
    "<h2>Now look at example again ...this one from https://www.sanyamkapoor.com/machine-learning/pytorch-data-loaders/<h2>"
   ]
  },
  {
   "cell_type": "code",
   "execution_count": 2,
   "metadata": {},
   "outputs": [],
   "source": [
    "class MyDataset(Dataset):\n",
    "    \"\"\"\n",
    "    This dataset contains a list of numbers in the range [a,b] inclusive\n",
    "    \"\"\"\n",
    "    def __init__(self, a=0, b=1):\n",
    "        super(MyDataset, self).__init__()\n",
    "        \n",
    "        assert a <= b\n",
    "        \n",
    "        self.a = a\n",
    "        self.b = b\n",
    "        \n",
    "    def __len__(self):\n",
    "        return self.b - self.a + 1\n",
    "        \n",
    "    def __getitem__(self, index):\n",
    "        print(index)\n",
    "        #assert self.a <= index <= self.b\n",
    "        \n",
    "        return (index, index**2)"
   ]
  },
  {
   "cell_type": "code",
   "execution_count": 6,
   "metadata": {},
   "outputs": [
    {
     "name": "stdout",
     "output_type": "stream",
     "text": [
      "10\n"
     ]
    }
   ],
   "source": [
    "\n",
    "#we create a dataset with 10 numbers \n",
    "data_train = MyDataset(a=1,b=10)\n",
    "data_train_loader = DataLoader(data_train, batch_size=8, shuffle=False) #change to True to see that the order of index changes each time\n",
    "print(len(data_train)) # 10"
   ]
  },
  {
   "cell_type": "code",
   "execution_count": 7,
   "metadata": {},
   "outputs": [
    {
     "name": "stdout",
     "output_type": "stream",
     "text": [
      "0\n",
      "1\n",
      "2\n",
      "3\n",
      "4\n",
      "5\n",
      "6\n",
      "7\n",
      "0\n",
      "8\n",
      "9\n",
      "1\n"
     ]
    }
   ],
   "source": [
    "for batch_idx, (data, target) in enumerate(data_train_loader):\n",
    "    pass\n",
    "    print(batch_idx)\n",
    "    #print(target)"
   ]
  },
  {
   "cell_type": "markdown",
   "metadata": {},
   "source": [
    "<h2>Now look finally at generator when data doesnt fit in memory</h2>"
   ]
  },
  {
   "cell_type": "code",
   "execution_count": 2,
   "metadata": {},
   "outputs": [
    {
     "name": "stdout",
     "output_type": "stream",
     "text": [
      "(506, 14)\n"
     ]
    }
   ],
   "source": [
    "boston = load_boston()\n",
    "x=pd.DataFrame(boston.data)\n",
    "x['13']=boston.target\n",
    "print(x.shape)\n",
    "x.to_csv('/media/jma/DATA/boston_combined.csv',index=False)"
   ]
  },
  {
   "cell_type": "code",
   "execution_count": 3,
   "metadata": {},
   "outputs": [],
   "source": [
    "#this is a generator to read the bostom data \n",
    "import csv \n",
    "import numpy as np \n",
    "\n",
    "def generate_arrays_from_file(file_name,batchsz):\n",
    "    \n",
    "    batchCount = 0\n",
    "    \n",
    "    inputs = []\n",
    "    targets = []\n",
    "            \n",
    "    linecounter=0 #which line the reader is reading\n",
    "                \n",
    "    while True: #infinite loop\n",
    "        with open(file_name, \"r\") as csvfile: \n",
    "            for line in csv.reader(csvfile):  \n",
    "                \n",
    "                if linecounter >0: #is not the header\n",
    "                    \n",
    "                    #could process data here, doing anything else (like shuffle them)\n",
    "                    inputs.append(line[0:13]) #columns 1-13\n",
    "                    targets.append(line[13]) #column 13\n",
    "\n",
    "                    batchCount += 1 # we added a line\n",
    "\n",
    "                    if batchCount >= batchsz: # we have our mini batch\n",
    "                        batchCount = 0 #reset batch counter\n",
    "                        \n",
    "                        #X and y numpy arrays\n",
    "                        X = np.array(inputs,dtype=\"float32\")\n",
    "                        y = np.array(targets,dtype=\"float32\")\n",
    "                        y=y.reshape(y.shape[0],1)\n",
    "                        \n",
    "                        yield (X, y)\n",
    "\n",
    "                        #reset the lists to hold the batches\n",
    "                        inputs = [] \n",
    "                        targets = []\n",
    "\n",
    "                linecounter += 1 #increment the line read\n",
    "            linecounter = 0 #reset line counter and start over reading file\n"
   ]
  },
  {
   "cell_type": "code",
   "execution_count": 4,
   "metadata": {},
   "outputs": [],
   "source": [
    "batch_size=64\n",
    "training_gen=generate_arrays_from_file('/media/jma/DATA/boston_combined.csv',batch_size)"
   ]
  },
  {
   "cell_type": "code",
   "execution_count": 5,
   "metadata": {},
   "outputs": [
    {
     "name": "stdout",
     "output_type": "stream",
     "text": [
      "Net(\n",
      "  (fc1): Linear(in_features=13, out_features=20, bias=True)\n",
      "  (drop): Dropout(p=0.5)\n",
      "  (fc2): Linear(in_features=20, out_features=1, bias=True)\n",
      ")\n"
     ]
    },
    {
     "data": {
      "text/plain": [
       "[<matplotlib.lines.Line2D at 0x7fe3900134e0>]"
      ]
     },
     "execution_count": 5,
     "metadata": {},
     "output_type": "execute_result"
    },
    {
     "data": {
      "image/png": "[encoded data removed]",
      "text/plain": [
       "<Figure size 432x288 with 1 Axes>"
      ]
     },
     "metadata": {},
     "output_type": "display_data"
    }
   ],
   "source": [
    "#each iteration should pull input data that is (64,13) and y that is (64,1)\n",
    "#we need t know in advance there are 506 records in the file so 506//64 = 8\n",
    "#when we run through 8 mini btches we have exhausted out training data (plus)\n",
    "\n",
    "record_len = 506\n",
    "cols=13\n",
    "epoch_cntr =0\n",
    "epoch_max=1000\n",
    "cum_loss=0.\n",
    "hold_loss=[]  \n",
    "\n",
    "#override nn Module\n",
    "class Net(nn.Module):\n",
    "    def __init__(self):\n",
    "         super(Net, self).__init__()\n",
    "         \n",
    "         #all the layers\n",
    "         self.fc1   = nn.Linear(cols, 20)\n",
    "         xavier_uniform_(self.fc1.weight.data) #this is how you can change the weight init\n",
    "         self.drop = nn.Dropout(p=0.5)\n",
    "         self.fc2   = nn.Linear(20, 1)\n",
    "         \n",
    "    #    \n",
    "    def forward(self, x):\n",
    "            x = F.relu(self.fc1(x))\n",
    "            x=  self.drop(x)\n",
    "            x = self.fc2(x)\n",
    "            \n",
    "            return x\n",
    "        \n",
    "        \n",
    "net=Net()\n",
    "if cuda:\n",
    "    net.cuda()\n",
    "print(net)\n",
    "\n",
    "# create a stochastic gradient descent optimizer\n",
    "optimizer = optim.Adam(net.parameters())\n",
    "# create a loss function (mse)\n",
    "loss = nn.MSELoss(size_average=True)\n",
    "\n",
    "for batch_indx,(X,y) in enumerate(training_gen):\n",
    "\n",
    "    #train model here, do valudation etc\n",
    "    tr_x, tr_y = torch.from_numpy(X).float(), torch.from_numpy(y).float()\n",
    "    \n",
    "    if cuda:\n",
    "        tr_x, tr_y = tr_x.cuda(), tr_y.cuda() \n",
    "            \n",
    "    # Reset gradient\n",
    "    optimizer.zero_grad()\n",
    "\n",
    "    # Forward pass\n",
    "    fx = net(tr_x)\n",
    "    output = loss(fx, tr_y) #loss for this batch\n",
    "    cum_loss += output.item() #accumulate the loss\n",
    "        \n",
    "    # Backward \n",
    "    output.backward()\n",
    "        \n",
    "    # Update parameters based on backprop\n",
    "    optimizer.step()\n",
    "       \n",
    " \n",
    "    \n",
    "    \n",
    "    \n",
    "    if (batch_indx >0) & (batch_indx % (record_len //batch_size) ==0): #we went through all the data\n",
    "            epoch_cntr +=1\n",
    "            hold_loss.append(cum_loss/record_len)\n",
    "            cum_loss=0. #reset\n",
    "    \n",
    "       \n",
    "    #DONE!\n",
    "    if epoch_cntr >= epoch_max:\n",
    "        break\n",
    "        \n",
    "plt.plot(np.array(hold_loss))\n",
    "    "
   ]
  },
  {
   "cell_type": "code",
   "execution_count": 16,
   "metadata": {},
   "outputs": [
    {
     "data": {
      "text/plain": [
       "<matplotlib.axes._subplots.AxesSubplot at 0x7fe3285e6c88>"
      ]
     },
     "execution_count": 16,
     "metadata": {},
     "output_type": "execute_result"
    },
    {
     "data": {
      "image/png": "[encoded data removed]",
      "text/plain": [
       "<Figure size 432x288 with 1 Axes>"
      ]
     },
     "metadata": {},
     "output_type": "display_data"
    }
   ],
   "source": [
    "#see how looks on training data\n",
    "#cheat and now hold in memory\n",
    "import pandas as pd\n",
    "\n",
    "boston = load_boston()\n",
    "\n",
    "x=boston.data\n",
    "y=boston.target\n",
    "tr_x, tr_y = torch.from_numpy(x).float().cuda(), torch.from_numpy(y).float()\n",
    "\n",
    "net.eval() #MUST DO THIS TO TURN OFF DROPOFF BEHAVIOR (opposite is model.train())\n",
    "\n",
    "preds= net(tr_x)\n",
    "preds=preds.cpu().data.numpy()\n",
    "preds=pd.DataFrame(preds,columns=['score'])\n",
    "preds['y']=y\n",
    "preds['decile']=pd.qcut(preds.score,10,labels=False)\n",
    "preds.groupby('decile')['y'].mean().plot()"
   ]
  },
  {
   "cell_type": "code",
   "execution_count": 17,
   "metadata": {},
   "outputs": [
    {
     "data": {
      "text/html": [
       "<div>\n",
       "<style scoped>\n",
       "    .dataframe tbody tr th:only-of-type {\n",
       "        vertical-align: middle;\n",
       "    }\n",
       "\n",
       "    .dataframe tbody tr th {\n",
       "        vertical-align: top;\n",
       "    }\n",
       "\n",
       "    .dataframe thead th {\n",
       "        text-align: right;\n",
       "    }\n",
       "</style>\n",
       "<table border=\"1\" class=\"dataframe\">\n",
       "  <thead>\n",
       "    <tr style=\"text-align: right;\">\n",
       "      <th></th>\n",
       "      <th>score</th>\n",
       "      <th>y</th>\n",
       "      <th>decile</th>\n",
       "    </tr>\n",
       "  </thead>\n",
       "  <tbody>\n",
       "    <tr>\n",
       "      <th>0</th>\n",
       "      <td>30.368252</td>\n",
       "      <td>24.0</td>\n",
       "      <td>9</td>\n",
       "    </tr>\n",
       "    <tr>\n",
       "      <th>1</th>\n",
       "      <td>23.258600</td>\n",
       "      <td>21.6</td>\n",
       "      <td>6</td>\n",
       "    </tr>\n",
       "    <tr>\n",
       "      <th>2</th>\n",
       "      <td>29.218382</td>\n",
       "      <td>34.7</td>\n",
       "      <td>8</td>\n",
       "    </tr>\n",
       "    <tr>\n",
       "      <th>3</th>\n",
       "      <td>29.338285</td>\n",
       "      <td>33.4</td>\n",
       "      <td>8</td>\n",
       "    </tr>\n",
       "    <tr>\n",
       "      <th>4</th>\n",
       "      <td>26.821287</td>\n",
       "      <td>36.2</td>\n",
       "      <td>8</td>\n",
       "    </tr>\n",
       "  </tbody>\n",
       "</table>\n",
       "</div>"
      ],
      "text/plain": [
       "       score     y  decile\n",
       "0  30.368252  24.0       9\n",
       "1  23.258600  21.6       6\n",
       "2  29.218382  34.7       8\n",
       "3  29.338285  33.4       8\n",
       "4  26.821287  36.2       8"
      ]
     },
     "execution_count": 17,
     "metadata": {},
     "output_type": "execute_result"
    }
   ],
   "source": [
    "preds.head()"
   ]
  },
  {
   "cell_type": "code",
   "execution_count": null,
   "metadata": {},
   "outputs": [],
   "source": []
  }
 ],
 "metadata": {
  "kernelspec": {
   "display_name": "Python 3",
   "language": "python",
   "name": "python3"
  },
  "language_info": {
   "codemirror_mode": {
    "name": "ipython",
    "version": 3
   },
   "file_extension": ".py",
   "mimetype": "text/x-python",
   "name": "python",
   "nbconvert_exporter": "python",
   "pygments_lexer": "ipython3",
   "version": "3.6.2"
  }
 },
 "nbformat": 4,
 "nbformat_minor": 2
}
