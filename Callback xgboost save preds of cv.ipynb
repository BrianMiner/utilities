{
 "cells": [
  {
   "cell_type": "code",
   "execution_count": null,
   "metadata": {},
   "outputs": [],
   "source": [
    "#called by callback at the end of each iteration (tree) - save just the best iteration based on cv error\n",
    "class OOFCallback:\n",
    "    def  __init__(self, oof_preds_dct, maximize=True):\n",
    "        \n",
    "        self.oof_preds_dct = oof_preds_dct\n",
    "        self.best_eval =None\n",
    "        self.maximize =maximize\n",
    "\n",
    "    def __call__(self, env): #saved the env object and interogatted it to see what it contained\n",
    "        \n",
    "        #look at the current mean OOF eval\n",
    "        current_eval = env.evaluation_result_list[1][1]\n",
    "        \n",
    "        if env.iteration % 10 ==0:\n",
    "            print(\"Iteration #\"+str(env.iteration))\n",
    "        \n",
    "        if self.best_eval == None: #first iteration\n",
    "            self.best_eval = current_eval\n",
    "            self.get_oof_preds(env.cvfolds)\n",
    "        else:\n",
    "            if self.maximize:\n",
    "                if self.best_eval < current_eval:\n",
    "                    self.best_eval = current_eval\n",
    "                    #replace the actuals and preds\n",
    "                    self.get_oof_preds(env.cvfolds)\n",
    "            else:\n",
    "                if self.best_eval > current_eval:\n",
    "                    self.best_eval = current_eval\n",
    "                    #replace the actuals and preds\n",
    "                    self.get_oof_preds(env.cvfolds)\n",
    "        \n",
    "    def get_oof_preds(self, cvfolds):\n",
    "        #reset the list of actuals and preds\n",
    "        self.oof_preds_dct['actual']=[]\n",
    "        self.oof_preds_dct['preds']=[]\n",
    "        #loop through the folds\n",
    "        for i, fold in enumerate(cvfolds):\n",
    "            self.oof_preds_dct['actual'].extend(fold.dtest.get_label())\n",
    "            self.oof_preds_dct['preds'].extend(fold.bst.predict(fold.dtest))\n",
    "\n",
    "\n",
    "\n",
    "#use of class:\n",
    "#returned by xgboost\n",
    "#oof_preds_dct={'actual':[],'preds':[]}\n",
    "#xgb.cv(params=params_xg,dtrain=dtrain_xg,num_boost_round=1500, early_stopping_rounds=10,nfold=10,stratified=True,callbacks=[OOFCallback(oof_preds_dct=oof_preds_dct,maximize=False)])\n",
    "#d=np.column_stack([np.array(oof_preds_dct['actual']),np.array(oof_preds_dct['preds']) ])\n",
    "#eval_model_results_binary(d,10)"
   ]
  }
 ],
 "metadata": {
  "kernelspec": {
   "display_name": "Python 3",
   "language": "python",
   "name": "python3"
  },
  "language_info": {
   "codemirror_mode": {
    "name": "ipython",
    "version": 3
   },
   "file_extension": ".py",
   "mimetype": "text/x-python",
   "name": "python",
   "nbconvert_exporter": "python",
   "pygments_lexer": "ipython3",
   "version": "3.6.2"
  }
 },
 "nbformat": 4,
 "nbformat_minor": 2
}
