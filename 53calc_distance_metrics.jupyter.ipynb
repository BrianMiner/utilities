{
 "cells": [
  {
   "cell_type": "code",
   "execution_count": 1,
   "metadata": {
    "collapsed": false,
    "deletable": true,
    "editable": true
   },
   "outputs": [
    {
     "data": {
      "text/plain": [
       "<pyspark.conf.SparkConf at 0x7f8da5f69f90>"
      ]
     },
     "execution_count": 1,
     "metadata": {},
     "output_type": "execute_result"
    }
   ],
   "source": [
    "import pandas as pd\n",
    "import numpy as np\n",
    "from datetime import datetime\n",
    "import pyspark as spark\n",
    "\n",
    "from pyspark.sql import SparkSession, functions as F, SQLContext\n",
    "sqlContext = SQLContext(sc)\n",
    "from pyspark.sql.window import Window\n",
    "\n",
    "from pyspark.sql.functions import rank, when, col, lit, to_date, udf, unix_timestamp, from_unixtime, regexp_replace, pow, cos, sin\n",
    "from pyspark.sql.functions import datediff\n",
    "\n",
    "from pyspark.sql.types import DateType, StringType, StructField, IntegerType, FloatType, StructType\n",
    "\n",
    "\n",
    "sc._conf.set('spark.executor.memory', '200g')\n",
    "sc._conf.set('spark.cores.max', '100')\n",
    "sc._conf.set('spark.driver.allowMultipleContexts', 'true')"
   ]
  },
  {
   "cell_type": "code",
   "execution_count": 2,
   "metadata": {
    "collapsed": false,
    "deletable": true,
    "editable": true
   },
   "outputs": [],
   "source": [
    "#full=pd.read_csv('/user-home/1014/checking_models/response_rebuild/checking_model_data.txt', na_values=['.', 'null'])\n",
    "#full.head()\n",
    "#full=full[['Person_Seq_No_1_183','LAT','LNG','DATE_KEY']]\n",
    "#full.to_csv('/user-home/1014/checking_models/response_rebuild/mailed_prosp_loc.csv', index=False)\n",
    "\n"
   ]
  },
  {
   "cell_type": "markdown",
   "metadata": {
    "deletable": true,
    "editable": true
   },
   "source": [
    "<h3>Load prospect locations</h3>"
   ]
  },
  {
   "cell_type": "code",
   "execution_count": 3,
   "metadata": {
    "collapsed": false,
    "deletable": true,
    "editable": true
   },
   "outputs": [
    {
     "name": "stdout",
     "output_type": "stream",
     "text": [
      "+--------------------+--------+---------+------------+\n",
      "| Person_Seq_No_1_183|     LAT|      LNG|DATE_KEY_STR|\n",
      "+--------------------+--------+---------+------------+\n",
      "|0C008227031193001...|26.14206|-80.32132|   31OCT2017|\n",
      "|0C0082270313E8007...|26.17931|-80.25072|   31OCT2017|\n",
      "|3001324C0313E6007...|30.18591|-81.71905|   31OCT2017|\n",
      "|0D00766A03118D000...|30.18591|-81.71905|   31OCT2017|\n",
      "|0C00853A03138A005...|26.16278|-81.79096|   31OCT2017|\n",
      "+--------------------+--------+---------+------------+\n",
      "only showing top 5 rows\n",
      "\n",
      "+--------------------+--------+---------+------------+----------+\n",
      "| Person_Seq_No_1_183|     LAT|      LNG|DATE_KEY_STR|  date_key|\n",
      "+--------------------+--------+---------+------------+----------+\n",
      "|0C008227031193001...|26.14206|-80.32132|   31OCT2017|2017-10-31|\n",
      "|0C0082270313E8007...|26.17931|-80.25072|   31OCT2017|2017-10-31|\n",
      "|3001324C0313E6007...|30.18591|-81.71905|   31OCT2017|2017-10-31|\n",
      "|0D00766A03118D000...|30.18591|-81.71905|   31OCT2017|2017-10-31|\n",
      "|0C00853A03138A005...|26.16278|-81.79096|   31OCT2017|2017-10-31|\n",
      "+--------------------+--------+---------+------------+----------+\n",
      "only showing top 5 rows\n",
      "\n",
      "1054503\n",
      "CPU times: user 13.1 ms, sys: 10.7 ms, total: 23.7 ms\n",
      "Wall time: 5.67 s\n"
     ]
    }
   ],
   "source": [
    "%%time\n",
    "prosp_loc_schema = StructType([StructField(\"Person_Seq_No_1_183\", StringType(), True),StructField(\"LAT\", FloatType(), True),StructField(\"LNG\", FloatType(), True),  StructField(\"DATE_KEY_STR\", StringType(), True)])\n",
    "\n",
    "prospect_loc = (sqlContext.read.format(\"com.databricks.spark.csv\").options(header= \"true\",delimiter=',',dateFormat=\"MM/dd/yyyy\").schema(prosp_loc_schema).load('/user-home/1014/checking_models/response_rebuild/mailed_prosp_loc.csv'))\n",
    "prospect_loc.show(n=5)\n",
    "\n",
    "#nest case to translate string to date\n",
    "date_key = when(\n",
    "        col(\"DATE_KEY_STR\").isin('31MAY2017'), F.lit('2017-05-31').cast(DateType()))\\\n",
    "        .when(col(\"DATE_KEY_STR\").isin('31JUL2017'), F.lit('2017-07-31').cast(DateType()))\\\n",
    "        .otherwise(F.lit('2017-10-31').cast(DateType()))\n",
    "\n",
    "\n",
    "prospect_loc=(prospect_loc.withColumn('date_key',date_key))\n",
    "                                     \n",
    "prospect_loc.show(n=5)\n",
    "print(prospect_loc.count())"
   ]
  },
  {
   "cell_type": "markdown",
   "metadata": {
    "deletable": true,
    "editable": true
   },
   "source": [
    "<h3>Load SNL locations</h3>"
   ]
  },
  {
   "cell_type": "code",
   "execution_count": 4,
   "metadata": {
    "collapsed": false,
    "deletable": true,
    "editable": true
   },
   "outputs": [
    {
     "name": "stdout",
     "output_type": "stream",
     "text": [
      "+--------------+--------------------+----------------+-----------------+----------------------+----------------------+------------+--------------------+----------+----+----+----+---+\n",
      "|SNL_Branch_Key| Parent_Company_Name|Latitude_degrees|Longitude_degrees|Branch_Opened_mmddyyyy|Branch_Closed_mmddyyyy|        TYPE|Branch_Tape_Deposits|fifththird|peer|core|tril| cu|\n",
      "+--------------+--------------------+----------------+-----------------+----------------------+----------------------+------------+--------------------+----------+----+----+----+---+\n",
      "|       1088811|@lantec Financial...|        36.92347|       -76.316376|            1952-01-01|            2004-06-30|Credit Union|                 0.0|         0|   0|   0|   0|  1|\n",
      "|       1079711|1199 SEIU Federal...|         40.7581|        -73.99004|            1984-01-13|            2003-06-30|Credit Union|                 0.0|         0|   0|   0|   0|  1|\n",
      "|       1079772|1199 SEIU Federal...|       40.758034|        -73.99006|            1940-06-20|                  null|Credit Union|             62960.0|         0|   0|   0|   0|  1|\n",
      "|         18666|121 Financial Cre...|        30.33012|        -81.66331|                  null|                  null|Credit Union|                 0.0|         0|   0|   0|   0|  1|\n",
      "|         18667|121 Financial Cre...|       30.329657|        -81.65916|                  null|            2013-09-01|Credit Union|                 0.0|         0|   0|   0|   0|  1|\n",
      "|         18668|121 Financial Cre...|        30.34864|        -81.66471|                  null|                  null|Credit Union|                 0.0|         0|   0|   0|   0|  1|\n",
      "|         21893|121 Financial Cre...|        30.29183|        -81.78446|                  null|                  null|Credit Union|                 0.0|         0|   0|   0|   0|  1|\n",
      "|         21894|121 Financial Cre...|        30.48095|        -81.63637|            2008-10-06|                  null|Credit Union|                 0.0|         0|   0|   0|   0|  1|\n",
      "|         21895|121 Financial Cre...|        30.14693|        -81.63318|                  null|                  null|Credit Union|                 0.0|         0|   0|   0|   0|  1|\n",
      "|         21896|121 Financial Cre...|        30.31752|         -81.4729|                  null|            2014-07-21|Credit Union|                 0.0|         0|   0|   0|   0|  1|\n",
      "+--------------+--------------------+----------------+-----------------+----------------------+----------------------+------------+--------------------+----------+----+----+----+---+\n",
      "only showing top 10 rows\n",
      "\n",
      "171104\n",
      "CPU times: user 23.9 ms, sys: 16.2 ms, total: 40 ms\n",
      "Wall time: 2.13 s\n"
     ]
    }
   ],
   "source": [
    "%%time\n",
    "snl_loc = (sqlContext.read.format(\"com.databricks.spark.csv\").options(header= \"true\",delimiter=',',dateFormat=\"MM/dd/yyyy\").load('/user-home/1014/checking_models/response_rebuild/snl_2018.csv'))\n",
    "snl_loc=(snl_loc.select('SNL_Branch_Key','Parent_Company_Name','Latitude_degrees','Longitude_degrees','Branch_Opened_mmddyyyy','Branch_Closed_mmddyyyy','TYPE','Branch_Tape_Deposits'))\n",
    "\n",
    "\n",
    "###UPDATE COLUMN TYPES\n",
    "#https://stackoverflow.com/questions/38080748/convert-pyspark-string-to-date-format\n",
    "\n",
    "snl_loc=(snl_loc.withColumn('Latitude_degrees',snl_loc.Latitude_degrees.cast(FloatType()))\\\n",
    "         .withColumn('Longitude_degrees',snl_loc.Longitude_degrees.cast(FloatType()))\\\n",
    "         .withColumn('Branch_Tape_Deposits',regexp_replace('Branch_Tape_Deposits', ',', '').cast(FloatType()))\\\n",
    "         .withColumn('Branch_Opened_mmddyyyy',to_date(from_unixtime(unix_timestamp('Branch_Opened_mmddyyyy', 'MM/dd/yyy'))))\\\n",
    "         .withColumn('Branch_Closed_mmddyyyy',to_date(from_unixtime(unix_timestamp('Branch_Closed_mmddyyyy', 'MM/dd/yyy'))))\\\n",
    "        )\n",
    "snl_loc=(snl_loc.fillna(0, subset=['Branch_Tape_Deposits']))\n",
    "\n",
    "\n",
    "#create features for type of branches\n",
    "        \n",
    "snl_loc=(snl_loc.withColumn('fifththird', when(snl_loc.Parent_Company_Name.isin('Fifth Third Bancorp'),1).otherwise(0)))\n",
    "snl_loc=(snl_loc.withColumn('peer', when(snl_loc.Parent_Company_Name.isin('BB&T Corporation',\n",
    "                                                                        'Capital One Financial Corporation',\n",
    "                                                                        'Comerica Incorporated',\n",
    "                                                                        'Huntington Bancshares Incorporated',\n",
    "                                                                        'KeyCorp',\n",
    "                                                                        'M&T Bank Corporation',\n",
    "                                                                        'PNC Financial Services Group, Inc.',\n",
    "                                                                        'Regions Financial Corporation',\n",
    "                                                                        'SunTrust Banks, Inc.',\n",
    "                                                                        'U.S. Bancorp',\n",
    "                                                                        'Zions Bancorporation')\n",
    "                                                                        ,1).otherwise(0)))\n",
    "\n",
    "\n",
    "snl_loc=(snl_loc.withColumn('core', when(snl_loc.Parent_Company_Name.isin('Wells Fargo & Company',\n",
    "                                                                        'PNC Financial Services Group, Inc.',\n",
    "                                                                        'Bank of America Corporation',\n",
    "                                                                        'JPMorgan Chase & Co.',\n",
    "                                                                        'BB&T Corporation',\n",
    "                                                                        'SunTrust Banks, Inc.',\n",
    "                                                                        'Regions Financial Corporation',\n",
    "                                                                        'U.S. Bancorp',\n",
    "                                                                        'Huntington Bancshares Incorporated')\n",
    "                                                                        ,1).otherwise(0)))\n",
    "\n",
    "\n",
    "snl_loc=(snl_loc.withColumn('tril', when(snl_loc.Parent_Company_Name.isin('Wells Fargo & Company',\n",
    "                                                                        'JPMorgan Chase & Co.',\n",
    "                                                                        'Bank of America Corporation')\n",
    "                                                                        ,1).otherwise(0)))\n",
    "\n",
    "snl_loc=(snl_loc.withColumn('cu', when(snl_loc.TYPE.isin('Credit Union') ,1).otherwise(0)))\n",
    "\n",
    "\n",
    "\n",
    "\n",
    "\n",
    "\n",
    "snl_loc.show(10)\n",
    "print(snl_loc.count())"
   ]
  },
  {
   "cell_type": "code",
   "execution_count": 5,
   "metadata": {
    "collapsed": true,
    "deletable": true,
    "editable": true
   },
   "outputs": [],
   "source": [
    "prospect_loc.createOrReplaceTempView(\"tbl_1\")\n",
    "snl_loc.createOrReplaceTempView(\"tbl_2\")\n",
    "spark = SparkSession.builder.getOrCreate()"
   ]
  },
  {
   "cell_type": "code",
   "execution_count": 8,
   "metadata": {
    "collapsed": false,
    "deletable": true,
    "editable": true
   },
   "outputs": [
    {
     "name": "stdout",
     "output_type": "stream",
     "text": [
      "CPU times: user 521 µs, sys: 2.7 ms, total: 3.22 ms\n",
      "Wall time: 85.4 ms\n"
     ]
    }
   ],
   "source": [
    "%%time\n",
    "sqlDf_3miles = spark.sql(\"select a.Person_SEQ_No_1_183, a.DATE_KEY_STR, sum(b.fifththird) as fifththird, sum(b.peer) as peer, sum(b.tril) as tril, sum(b.cu) as cu \\\n",
    "                         FROM tbl_1 a inner join tbl_2 b \\\n",
    "                        on (b.Branch_Closed_mmddyyyy is null or Branch_Closed_mmddyyyy > a.date_key) \\\n",
    "                        and (b.Branch_Opened_mmddyyyy is null or Branch_Opened_mmddyyyy < a.date_key)\\\n",
    "                        and 7921.6623*asin( sqrt(pow(sin((b.Latitude_degrees-a.LAT)/2.0),2.0)+cos(a.LAT)*cos(b.Latitude_degrees)*pow(sin((b.Longitude_degrees-a.LNG)/2.0),2.0))) <=3 \\\n",
    "                        group by a.Person_SEQ_No_1_183, a.DATE_KEY_STR\")"
   ]
  },
  {
   "cell_type": "code",
   "execution_count": 6,
   "metadata": {
    "collapsed": false,
    "deletable": true,
    "editable": true
   },
   "outputs": [
    {
     "name": "stdout",
     "output_type": "stream",
     "text": [
      "CPU times: user 1.21 ms, sys: 2.54 ms, total: 3.75 ms\n",
      "Wall time: 300 ms\n"
     ]
    }
   ],
   "source": [
    "sqlDf_5miles = spark.sql(\"select a.Person_SEQ_No_1_183, a.DATE_KEY_STR, sum(b.fifththird) as fifththird, sum(b.peer) as peer, sum(b.tril) as tril, sum(b.cu) as cu \\\n",
    "                         FROM tbl_1 a cross join tbl_2 b \\\n",
    "                        where (b.Branch_Closed_mmddyyyy is null or Branch_Closed_mmddyyyy > a.date_key) \\\n",
    "                        and (b.Branch_Opened_mmddyyyy is null or Branch_Opened_mmddyyyy < a.date_key)\\\n",
    "                        and 7921.6623*asin( sqrt(pow(sin((b.Latitude_degrees-a.LAT)/2.0),2.0)+cos(a.LAT)*cos(b.Latitude_degrees)*pow(sin((b.Longitude_degrees-a.LNG)/2.0),2.0))) <=5 \\\n",
    "                        group by a.Person_SEQ_No_1_183, a.DATE_KEY_STR\")\n",
    "\n",
    "sqlDf_7miles = spark.sql(\"select a.Person_SEQ_No_1_183, a.DATE_KEY_STR, sum(b.fifththird) as fifththird, sum(b.peer) as peer, sum(b.tril) as tril, sum(b.cu) as cu \\\n",
    "                         FROM tbl_1 a cross join tbl_2 b \\\n",
    "                        where (b.Branch_Closed_mmddyyyy is null or Branch_Closed_mmddyyyy > a.date_key) \\\n",
    "                        and (b.Branch_Opened_mmddyyyy is null or Branch_Opened_mmddyyyy < a.date_key)\\\n",
    "                        and 7921.6623*asin( sqrt(pow(sin((b.Latitude_degrees-a.LAT)/2.0),2.0)+cos(a.LAT)*cos(b.Latitude_degrees)*pow(sin((b.Longitude_degrees-a.LNG)/2.0),2.0))) <=7 \\\n",
    "                        group by a.Person_SEQ_No_1_183, a.DATE_KEY_STR\")"
   ]
  },
  {
   "cell_type": "code",
   "execution_count": 9,
   "metadata": {
    "collapsed": false,
    "deletable": true,
    "editable": true
   },
   "outputs": [
    {
     "ename": "KeyboardInterrupt",
     "evalue": "",
     "output_type": "error",
     "traceback": [
      "\u001b[0;31m\u001b[0m",
      "\u001b[0;31mKeyboardInterrupt\u001b[0mTraceback (most recent call last)",
      "\u001b[0;32m<ipython-input-9-34e226a58614>\u001b[0m in \u001b[0;36m<module>\u001b[0;34m()\u001b[0m\n\u001b[0;32m----> 1\u001b[0;31m \u001b[0msqlDf_3miles_pd\u001b[0m\u001b[0;34m=\u001b[0m\u001b[0msqlDf_3miles\u001b[0m\u001b[0;34m.\u001b[0m\u001b[0mtoPandas\u001b[0m\u001b[0;34m(\u001b[0m\u001b[0;34m)\u001b[0m\u001b[0;34m\u001b[0m\u001b[0m\n\u001b[0m",
      "\u001b[0;32m/usr/local/spark/python/pyspark/sql/dataframe.py\u001b[0m in \u001b[0;36mtoPandas\u001b[0;34m(self)\u001b[0m\n\u001b[1;32m   1440\u001b[0m         \"\"\"\n\u001b[1;32m   1441\u001b[0m         \u001b[0;32mimport\u001b[0m \u001b[0mpandas\u001b[0m \u001b[0;32mas\u001b[0m \u001b[0mpd\u001b[0m\u001b[0;34m\u001b[0m\u001b[0m\n\u001b[0;32m-> 1442\u001b[0;31m         \u001b[0;32mreturn\u001b[0m \u001b[0mpd\u001b[0m\u001b[0;34m.\u001b[0m\u001b[0mDataFrame\u001b[0m\u001b[0;34m.\u001b[0m\u001b[0mfrom_records\u001b[0m\u001b[0;34m(\u001b[0m\u001b[0mself\u001b[0m\u001b[0;34m.\u001b[0m\u001b[0mcollect\u001b[0m\u001b[0;34m(\u001b[0m\u001b[0;34m)\u001b[0m\u001b[0;34m,\u001b[0m \u001b[0mcolumns\u001b[0m\u001b[0;34m=\u001b[0m\u001b[0mself\u001b[0m\u001b[0;34m.\u001b[0m\u001b[0mcolumns\u001b[0m\u001b[0;34m)\u001b[0m\u001b[0;34m\u001b[0m\u001b[0m\n\u001b[0m\u001b[1;32m   1443\u001b[0m \u001b[0;34m\u001b[0m\u001b[0m\n\u001b[1;32m   1444\u001b[0m     \u001b[0;31m##########################################################################################\u001b[0m\u001b[0;34m\u001b[0m\u001b[0;34m\u001b[0m\u001b[0m\n",
      "\u001b[0;32m/usr/local/spark/python/pyspark/sql/dataframe.py\u001b[0m in \u001b[0;36mcollect\u001b[0;34m(self)\u001b[0m\n\u001b[1;32m    308\u001b[0m         \"\"\"\n\u001b[1;32m    309\u001b[0m         \u001b[0;32mwith\u001b[0m \u001b[0mSCCallSiteSync\u001b[0m\u001b[0;34m(\u001b[0m\u001b[0mself\u001b[0m\u001b[0;34m.\u001b[0m\u001b[0m_sc\u001b[0m\u001b[0;34m)\u001b[0m \u001b[0;32mas\u001b[0m \u001b[0mcss\u001b[0m\u001b[0;34m:\u001b[0m\u001b[0;34m\u001b[0m\u001b[0m\n\u001b[0;32m--> 310\u001b[0;31m             \u001b[0mport\u001b[0m \u001b[0;34m=\u001b[0m \u001b[0mself\u001b[0m\u001b[0;34m.\u001b[0m\u001b[0m_jdf\u001b[0m\u001b[0;34m.\u001b[0m\u001b[0mcollectToPython\u001b[0m\u001b[0;34m(\u001b[0m\u001b[0;34m)\u001b[0m\u001b[0;34m\u001b[0m\u001b[0m\n\u001b[0m\u001b[1;32m    311\u001b[0m         \u001b[0;32mreturn\u001b[0m \u001b[0mlist\u001b[0m\u001b[0;34m(\u001b[0m\u001b[0m_load_from_socket\u001b[0m\u001b[0;34m(\u001b[0m\u001b[0mport\u001b[0m\u001b[0;34m,\u001b[0m \u001b[0mBatchedSerializer\u001b[0m\u001b[0;34m(\u001b[0m\u001b[0mPickleSerializer\u001b[0m\u001b[0;34m(\u001b[0m\u001b[0;34m)\u001b[0m\u001b[0;34m)\u001b[0m\u001b[0;34m)\u001b[0m\u001b[0;34m)\u001b[0m\u001b[0;34m\u001b[0m\u001b[0m\n\u001b[1;32m    312\u001b[0m \u001b[0;34m\u001b[0m\u001b[0m\n",
      "\u001b[0;32m/usr/local/spark/python/lib/py4j-0.10.3-src.zip/py4j/java_gateway.py\u001b[0m in \u001b[0;36m__call__\u001b[0;34m(self, *args)\u001b[0m\n\u001b[1;32m   1129\u001b[0m             \u001b[0mproto\u001b[0m\u001b[0;34m.\u001b[0m\u001b[0mEND_COMMAND_PART\u001b[0m\u001b[0;34m\u001b[0m\u001b[0m\n\u001b[1;32m   1130\u001b[0m \u001b[0;34m\u001b[0m\u001b[0m\n\u001b[0;32m-> 1131\u001b[0;31m         \u001b[0manswer\u001b[0m \u001b[0;34m=\u001b[0m \u001b[0mself\u001b[0m\u001b[0;34m.\u001b[0m\u001b[0mgateway_client\u001b[0m\u001b[0;34m.\u001b[0m\u001b[0msend_command\u001b[0m\u001b[0;34m(\u001b[0m\u001b[0mcommand\u001b[0m\u001b[0;34m)\u001b[0m\u001b[0;34m\u001b[0m\u001b[0m\n\u001b[0m\u001b[1;32m   1132\u001b[0m         return_value = get_return_value(\n\u001b[1;32m   1133\u001b[0m             answer, self.gateway_client, self.target_id, self.name)\n",
      "\u001b[0;32m/usr/local/spark/python/lib/py4j-0.10.3-src.zip/py4j/java_gateway.py\u001b[0m in \u001b[0;36msend_command\u001b[0;34m(self, command, retry, binary)\u001b[0m\n\u001b[1;32m    881\u001b[0m         \u001b[0mconnection\u001b[0m \u001b[0;34m=\u001b[0m \u001b[0mself\u001b[0m\u001b[0;34m.\u001b[0m\u001b[0m_get_connection\u001b[0m\u001b[0;34m(\u001b[0m\u001b[0;34m)\u001b[0m\u001b[0;34m\u001b[0m\u001b[0m\n\u001b[1;32m    882\u001b[0m         \u001b[0;32mtry\u001b[0m\u001b[0;34m:\u001b[0m\u001b[0;34m\u001b[0m\u001b[0m\n\u001b[0;32m--> 883\u001b[0;31m             \u001b[0mresponse\u001b[0m \u001b[0;34m=\u001b[0m \u001b[0mconnection\u001b[0m\u001b[0;34m.\u001b[0m\u001b[0msend_command\u001b[0m\u001b[0;34m(\u001b[0m\u001b[0mcommand\u001b[0m\u001b[0;34m)\u001b[0m\u001b[0;34m\u001b[0m\u001b[0m\n\u001b[0m\u001b[1;32m    884\u001b[0m             \u001b[0;32mif\u001b[0m \u001b[0mbinary\u001b[0m\u001b[0;34m:\u001b[0m\u001b[0;34m\u001b[0m\u001b[0m\n\u001b[1;32m    885\u001b[0m                 \u001b[0;32mreturn\u001b[0m \u001b[0mresponse\u001b[0m\u001b[0;34m,\u001b[0m \u001b[0mself\u001b[0m\u001b[0;34m.\u001b[0m\u001b[0m_create_connection_guard\u001b[0m\u001b[0;34m(\u001b[0m\u001b[0mconnection\u001b[0m\u001b[0;34m)\u001b[0m\u001b[0;34m\u001b[0m\u001b[0m\n",
      "\u001b[0;32m/usr/local/spark/python/lib/py4j-0.10.3-src.zip/py4j/java_gateway.py\u001b[0m in \u001b[0;36msend_command\u001b[0;34m(self, command)\u001b[0m\n\u001b[1;32m   1026\u001b[0m \u001b[0;34m\u001b[0m\u001b[0m\n\u001b[1;32m   1027\u001b[0m         \u001b[0;32mtry\u001b[0m\u001b[0;34m:\u001b[0m\u001b[0;34m\u001b[0m\u001b[0m\n\u001b[0;32m-> 1028\u001b[0;31m             \u001b[0manswer\u001b[0m \u001b[0;34m=\u001b[0m \u001b[0msmart_decode\u001b[0m\u001b[0;34m(\u001b[0m\u001b[0mself\u001b[0m\u001b[0;34m.\u001b[0m\u001b[0mstream\u001b[0m\u001b[0;34m.\u001b[0m\u001b[0mreadline\u001b[0m\u001b[0;34m(\u001b[0m\u001b[0;34m)\u001b[0m\u001b[0;34m[\u001b[0m\u001b[0;34m:\u001b[0m\u001b[0;34m-\u001b[0m\u001b[0;36m1\u001b[0m\u001b[0;34m]\u001b[0m\u001b[0;34m)\u001b[0m\u001b[0;34m\u001b[0m\u001b[0m\n\u001b[0m\u001b[1;32m   1029\u001b[0m             \u001b[0mlogger\u001b[0m\u001b[0;34m.\u001b[0m\u001b[0mdebug\u001b[0m\u001b[0;34m(\u001b[0m\u001b[0;34m\"Answer received: {0}\"\u001b[0m\u001b[0;34m.\u001b[0m\u001b[0mformat\u001b[0m\u001b[0;34m(\u001b[0m\u001b[0manswer\u001b[0m\u001b[0;34m)\u001b[0m\u001b[0;34m)\u001b[0m\u001b[0;34m\u001b[0m\u001b[0m\n\u001b[1;32m   1030\u001b[0m             \u001b[0;32mif\u001b[0m \u001b[0manswer\u001b[0m\u001b[0;34m.\u001b[0m\u001b[0mstartswith\u001b[0m\u001b[0;34m(\u001b[0m\u001b[0mproto\u001b[0m\u001b[0;34m.\u001b[0m\u001b[0mRETURN_MESSAGE\u001b[0m\u001b[0;34m)\u001b[0m\u001b[0;34m:\u001b[0m\u001b[0;34m\u001b[0m\u001b[0m\n",
      "\u001b[0;32m/opt/conda/lib/python2.7/socket.pyc\u001b[0m in \u001b[0;36mreadline\u001b[0;34m(self, size)\u001b[0m\n\u001b[1;32m    449\u001b[0m             \u001b[0;32mwhile\u001b[0m \u001b[0mTrue\u001b[0m\u001b[0;34m:\u001b[0m\u001b[0;34m\u001b[0m\u001b[0m\n\u001b[1;32m    450\u001b[0m                 \u001b[0;32mtry\u001b[0m\u001b[0;34m:\u001b[0m\u001b[0;34m\u001b[0m\u001b[0m\n\u001b[0;32m--> 451\u001b[0;31m                     \u001b[0mdata\u001b[0m \u001b[0;34m=\u001b[0m \u001b[0mself\u001b[0m\u001b[0;34m.\u001b[0m\u001b[0m_sock\u001b[0m\u001b[0;34m.\u001b[0m\u001b[0mrecv\u001b[0m\u001b[0;34m(\u001b[0m\u001b[0mself\u001b[0m\u001b[0;34m.\u001b[0m\u001b[0m_rbufsize\u001b[0m\u001b[0;34m)\u001b[0m\u001b[0;34m\u001b[0m\u001b[0m\n\u001b[0m\u001b[1;32m    452\u001b[0m                 \u001b[0;32mexcept\u001b[0m \u001b[0merror\u001b[0m\u001b[0;34m,\u001b[0m \u001b[0me\u001b[0m\u001b[0;34m:\u001b[0m\u001b[0;34m\u001b[0m\u001b[0m\n\u001b[1;32m    453\u001b[0m                     \u001b[0;32mif\u001b[0m \u001b[0me\u001b[0m\u001b[0;34m.\u001b[0m\u001b[0margs\u001b[0m\u001b[0;34m[\u001b[0m\u001b[0;36m0\u001b[0m\u001b[0;34m]\u001b[0m \u001b[0;34m==\u001b[0m \u001b[0mEINTR\u001b[0m\u001b[0;34m:\u001b[0m\u001b[0;34m\u001b[0m\u001b[0m\n",
      "\u001b[0;31mKeyboardInterrupt\u001b[0m: "
     ]
    }
   ],
   "source": [
    "sqlDf_3miles_pd=sqlDf_3miles.toPandas()"
   ]
  },
  {
   "cell_type": "code",
   "execution_count": null,
   "metadata": {
    "collapsed": true,
    "deletable": true,
    "editable": true
   },
   "outputs": [],
   "source": [
    "sqlDf_distance = spark.sql(\"select a.Person_SEQ_No_1_183, a.DATE_KEY_STR, b.SNL_Branch_Key, 7921.6623*asin( sqrt(pow(sin((b.Latitude_degrees-a.LAT)/2.0),2.0)+cos(a.LAT)*cos(b.Latitude_degrees)*pow(sin((b.Longitude_degrees-a.LNG)/2.0),2.0))) as distance \\\n",
    "                         FROM tbl_1 a cross join tbl_2 b \\\n",
    "                        where (Branch_Closed_mmddyyyy is null or Branch_Closed_mmddyyyy > date_key) \\\n",
    "                        and (Branch_Opened_mmddyyyy is null or Branch_Opened_mmddyyyy < date_key)\\\n",
    "                        and 7921.6623*asin( sqrt(pow(sin((b.Latitude_degrees-a.LAT)/2.0),2.0)+cos(a.LAT)*cos(b.Latitude_degrees)*pow(sin((b.Longitude_degrees-a.LNG)/2.0),2.0))) <=30\")"
   ]
  },
  {
   "cell_type": "code",
   "execution_count": null,
   "metadata": {
    "collapsed": true,
    "deletable": true,
    "editable": true
   },
   "outputs": [],
   "source": [
    "window = Window.\\\n",
    "              partitionBy('Person_SEQ_No_1_183', 'DATE_KEY_STR').\\\n",
    "              orderBy(sqlDf_distance['distance'])\n",
    "\n",
    "sqlDf_ranked_dist = sqlDf_distance.withColumn(\"rank_based_on_distance\",rank().over(window))\n",
    "df_w_least = sqlDf_ranked_dist.filter(sqlDf_ranked_dist.rank_based_on_distance==1)"
   ]
  }
 ],
 "metadata": {
  "kernelspec": {
   "display_name": "Python 2",
   "language": "python",
   "name": "python2"
  },
  "language_info": {
   "codemirror_mode": {
    "name": "ipython",
    "version": 2
   },
   "file_extension": ".py",
   "mimetype": "text/x-python",
   "name": "python",
   "nbconvert_exporter": "python",
   "pygments_lexer": "ipython2",
   "version": "2.7.13"
  }
 },
 "nbformat": 4,
 "nbformat_minor": 2
}
